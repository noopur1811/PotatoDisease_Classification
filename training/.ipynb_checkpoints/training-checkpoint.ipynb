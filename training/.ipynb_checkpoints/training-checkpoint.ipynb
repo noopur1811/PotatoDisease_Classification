{
 "cells": [
  {
   "cell_type": "markdown",
   "id": "c685a248-f0f1-4474-9210-1a0e8236eecf",
   "metadata": {},
   "source": [
    "get the dataset ready for training"
   ]
  },
  {
   "cell_type": "code",
   "execution_count": null,
   "id": "6b7d771e-1088-4b9f-8386-a36a519b62b6",
   "metadata": {},
   "outputs": [],
   "source": []
  }
 ],
 "metadata": {
  "kernelspec": {
   "display_name": "Python [conda env:base] *",
   "language": "python",
   "name": "conda-base-py"
  },
  "language_info": {
   "codemirror_mode": {
    "name": "ipython",
    "version": 3
   },
   "file_extension": ".py",
   "mimetype": "text/x-python",
   "name": "python",
   "nbconvert_exporter": "python",
   "pygments_lexer": "ipython3",
   "version": "3.12.7"
  }
 },
 "nbformat": 4,
 "nbformat_minor": 5
}
